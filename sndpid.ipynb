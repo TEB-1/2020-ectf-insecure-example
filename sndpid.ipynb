{
  "nbformat": 4,
  "nbformat_minor": 0,
  "metadata": {
    "colab": {
      "name": "sndpid.ipynb",
      "provenance": [],
      "collapsed_sections": [],
      "include_colab_link": true
    },
    "kernelspec": {
      "name": "python3",
      "display_name": "Python 3"
    }
  },
  "cells": [
    {
      "cell_type": "markdown",
      "metadata": {
        "id": "view-in-github",
        "colab_type": "text"
      },
      "source": [
        "<a href=\"https://colab.research.google.com/github/TEB-1/2020-ectf-insecure-example/blob/master/sndpid.ipynb\" target=\"_parent\"><img src=\"https://colab.research.google.com/assets/colab-badge.svg\" alt=\"Open In Colab\"/></a>"
      ]
    },
    {
      "cell_type": "markdown",
      "metadata": {
        "id": "Fzn8zPMVeP3X",
        "colab_type": "text"
      },
      "source": [
        "# Control System with Python\n",
        "## Systems Analysis, ECE, UConn\n",
        "### © Adria Kajenski and Abhishek Dutta\n",
        "\n",
        "\n",
        "---\n",
        "\n"
      ]
    },
    {
      "cell_type": "markdown",
      "metadata": {
        "id": "WvKP4qSgIUOu",
        "colab_type": "text"
      },
      "source": [
        "#*Second Order, Stability & PID Control*"
      ]
    },
    {
      "cell_type": "code",
      "metadata": {
        "id": "V3kqcd6vaT4i",
        "colab_type": "code",
        "outputId": "d946dab2-e2d5-4482-946e-122c90231e40",
        "colab": {
          "base_uri": "https://localhost:8080/",
          "height": 343
        }
      },
      "source": [
        "# Install control library\n",
        "!pip install control"
      ],
      "execution_count": 0,
      "outputs": [
        {
          "output_type": "stream",
          "text": [
            "Collecting control\n",
            "\u001b[?25l  Downloading https://files.pythonhosted.org/packages/e8/b0/32a903138505dd4ea523f8a3fc156c4272aa58b10100ef24ff74ced2fae8/control-0.8.3.tar.gz (249kB)\n",
            "\r\u001b[K     |█▎                              | 10kB 17.2MB/s eta 0:00:01\r\u001b[K     |██▋                             | 20kB 1.8MB/s eta 0:00:01\r\u001b[K     |████                            | 30kB 2.2MB/s eta 0:00:01\r\u001b[K     |█████▎                          | 40kB 2.5MB/s eta 0:00:01\r\u001b[K     |██████▋                         | 51kB 2.0MB/s eta 0:00:01\r\u001b[K     |███████▉                        | 61kB 2.3MB/s eta 0:00:01\r\u001b[K     |█████████▏                      | 71kB 2.5MB/s eta 0:00:01\r\u001b[K     |██████████▌                     | 81kB 2.7MB/s eta 0:00:01\r\u001b[K     |███████████▉                    | 92kB 2.9MB/s eta 0:00:01\r\u001b[K     |█████████████▏                  | 102kB 2.8MB/s eta 0:00:01\r\u001b[K     |██████████████▍                 | 112kB 2.8MB/s eta 0:00:01\r\u001b[K     |███████████████▊                | 122kB 2.8MB/s eta 0:00:01\r\u001b[K     |█████████████████               | 133kB 2.8MB/s eta 0:00:01\r\u001b[K     |██████████████████▍             | 143kB 2.8MB/s eta 0:00:01\r\u001b[K     |███████████████████▊            | 153kB 2.8MB/s eta 0:00:01\r\u001b[K     |█████████████████████           | 163kB 2.8MB/s eta 0:00:01\r\u001b[K     |██████████████████████▎         | 174kB 2.8MB/s eta 0:00:01\r\u001b[K     |███████████████████████▋        | 184kB 2.8MB/s eta 0:00:01\r\u001b[K     |█████████████████████████       | 194kB 2.8MB/s eta 0:00:01\r\u001b[K     |██████████████████████████▎     | 204kB 2.8MB/s eta 0:00:01\r\u001b[K     |███████████████████████████▋    | 215kB 2.8MB/s eta 0:00:01\r\u001b[K     |████████████████████████████▉   | 225kB 2.8MB/s eta 0:00:01\r\u001b[K     |██████████████████████████████▏ | 235kB 2.8MB/s eta 0:00:01\r\u001b[K     |███████████████████████████████▌| 245kB 2.8MB/s eta 0:00:01\r\u001b[K     |████████████████████████████████| 256kB 2.8MB/s \n",
            "\u001b[?25hRequirement already satisfied: numpy in /usr/local/lib/python3.6/dist-packages (from control) (1.18.5)\n",
            "Requirement already satisfied: scipy in /usr/local/lib/python3.6/dist-packages (from control) (1.4.1)\n",
            "Requirement already satisfied: matplotlib in /usr/local/lib/python3.6/dist-packages (from control) (3.2.1)\n",
            "Requirement already satisfied: cycler>=0.10 in /usr/local/lib/python3.6/dist-packages (from matplotlib->control) (0.10.0)\n",
            "Requirement already satisfied: kiwisolver>=1.0.1 in /usr/local/lib/python3.6/dist-packages (from matplotlib->control) (1.2.0)\n",
            "Requirement already satisfied: python-dateutil>=2.1 in /usr/local/lib/python3.6/dist-packages (from matplotlib->control) (2.8.1)\n",
            "Requirement already satisfied: pyparsing!=2.0.4,!=2.1.2,!=2.1.6,>=2.0.1 in /usr/local/lib/python3.6/dist-packages (from matplotlib->control) (2.4.7)\n",
            "Requirement already satisfied: six in /usr/local/lib/python3.6/dist-packages (from cycler>=0.10->matplotlib->control) (1.12.0)\n",
            "Building wheels for collected packages: control\n",
            "  Building wheel for control (setup.py) ... \u001b[?25l\u001b[?25hdone\n",
            "  Created wheel for control: filename=control-0.8.3-py2.py3-none-any.whl size=260982 sha256=4b5ba61caaa32606feac253d72d1348b6fc531c3d087f15eb9863cecacaf6fa2\n",
            "  Stored in directory: /root/.cache/pip/wheels/c2/d9/cc/90b28cb139a6320a3af2285428b6da87eee8d8920c78bb0223\n",
            "Successfully built control\n",
            "Installing collected packages: control\n",
            "Successfully installed control-0.8.3\n"
          ],
          "name": "stdout"
        }
      ]
    },
    {
      "cell_type": "code",
      "metadata": {
        "id": "GwclOF1-JAkB",
        "colab_type": "code",
        "outputId": "e34f2820-2087-481b-9354-3c6e60838df9",
        "colab": {
          "base_uri": "https://localhost:8080/",
          "height": 434
        }
      },
      "source": [
        "import control.matlab as cml\n",
        "import control\n",
        "import numpy as np\n",
        "\n",
        "# A) Poles and Zeros\n",
        "# Start by defining a system's poles and zeros\n",
        "# Let's assume there are no zeros, so create an empty array\n",
        "zeros = np.array([])\n",
        "poles = np.array([-2+1j, -2-1j], dtype=complex)\n",
        "\n",
        "# Use Matlab control function \"zero, poles, gain\" to create transfer function \n",
        "\n",
        "(num,den) = cml.zpk2tf([],poles, 1)\n",
        "\n",
        "# The zpk2tf() function gives it in a (num,den) format, so define a  \n",
        "# transfer function that you can work with\n",
        "\n",
        "H = control.tf(num,den)\n",
        "#print(H)\n",
        "\n",
        "# Take a look at the poles and zeros map to visualize what the system looks like\n",
        "(p,z) = control.pzmap(H)\n",
        "(omega_n, zeta, tfpoles) = cml.damp(H)\n",
        "\n",
        "info = control.step_info(H)\n",
        "\n",
        "print(omega_n)\n",
        "print(zeta)\n",
        "print(tfpoles)\n",
        "print(info)"
      ],
      "execution_count": 0,
      "outputs": [
        {
          "output_type": "stream",
          "text": [
            "_____Eigenvalue______ Damping___ Frequency_\n",
            "        -2        +1j     0.8944      2.236\n",
            "        -2        -1j     0.8944      2.236\n",
            "[2.23606798 2.23606798]\n",
            "[0.89442719 0.89442719]\n",
            "[-2.+1.j -2.-1.j]\n",
            "{'RiseTime': 1.2857857857857855, 'SettlingTime': 2.098598598598598, 'SettlingMin': 0.1804298201891198, 'SettlingMax': 0.2003734875183782, 'Overshoot': 0.037319639152598914, 'Undershoot': 0.0, 'Peak': 0.2003734875183782, 'PeakTime': 3.1426426426426417, 'SteadyStateValue': 0.2002987367525949}\n"
          ],
          "name": "stdout"
        },
        {
          "output_type": "display_data",
          "data": {
            "image/png": "[encoded data removed]",
            "text/plain": [
              "<Figure size 432x288 with 1 Axes>"
            ]
          },
          "metadata": {
            "tags": [],
            "needs_background": "light"
          }
        }
      ]
    },
    {
      "cell_type": "code",
      "metadata": {
        "id": "_djJaUPpOzyw",
        "colab_type": "code",
        "outputId": "cff97e26-d9fb-4062-b923-228c1b9b6a94",
        "colab": {
          "base_uri": "https://localhost:8080/",
          "height": 296
        }
      },
      "source": [
        "# B) PID Control\n",
        "import matplotlib.pyplot as plt\n",
        "\n",
        "#Define time window \n",
        "t0 = 0\n",
        "t1 = 10\n",
        "dt = 0.5\n",
        "\n",
        "t = np.arange(t0, t1+dt, dt)\n",
        "\n",
        "#Define input signal - step function \n",
        "u0 = np.ones(5) #Could use zeros here if you wanted to start the signal later \n",
        "u1 = np.ones(len(t)-len(u0))\n",
        "\n",
        "u = np.concatenate((u0, u1), axis = 0)\n",
        "\n",
        "#Define initial state\n",
        "X0 = 0\n",
        "\n",
        "#Define transfer function\n",
        "num = [0, 0, 9]\n",
        "den = [1, 2, 9]\n",
        "\n",
        "H = control.tf(num,den)\n",
        "\n",
        "H_cl = control.feedback(H, 1)\n",
        "\n",
        "#Response of system with no controller \n",
        "(timeH, yH, xH) = control.forced_response(H, t, u, X0)\n",
        "\n",
        "# Look at controller terms\n",
        "Kp = 4\n",
        "KI = 2\n",
        "KD = 2\n",
        "\n",
        "# Proportional Controller: Kp term only\n",
        "numP = [Kp]\n",
        "denP = [1]\n",
        "P = control.tf(numP, denP)\n",
        "H_p = control.feedback(control.series(H, P),1)\n",
        "(timeP, yP, xP) = control.forced_response(H_p, t, u, X0)\n",
        "\n",
        "# PD Controller: want transfer function sKD + Kp\n",
        "numPD = [KD, Kp]\n",
        "denPD = [1, 0]\n",
        "PD = control.tf(numPD,denPD)\n",
        "H_PD = control.feedback(control.series(H, PD), 1)\n",
        "(timePD, yPD, xPD) = control.forced_response(H_PD, t, u, X0)\n",
        "\n",
        "# PI Controller: want transfer function (Kp + KI/s) = (sKp + KI)/s\n",
        "numPI = [Kp, KI]\n",
        "denPI = [1,0]\n",
        "PI = control.tf(numPI,denPI)\n",
        "H_PI = control.feedback(control.series(H,PI),1)\n",
        "(timePI, yPI, xPI) = control.forced_response(H_PI, t, u, X0)\n",
        "\n",
        "# PID controller: want transfer function of form (Kp + KI/s + sKD)\n",
        "numPID = [KD, Kp, KI]\n",
        "denPID = [1,0]\n",
        "PID = control.tf(numPID, denPID)\n",
        "H_PID = control.feedback(control.series(H, PID), 1)\n",
        "(timePID, yPID, xPID) = control.forced_response(H_PID, t, u, X0)\n",
        "\n",
        "\n",
        "plt.plot(timeH, yH) \n",
        "plt.plot(timeP, yP)\n",
        "plt.plot(timePD, yPD)\n",
        "plt.plot(timePI, yPI)\n",
        "plt.plot(timePID,yPID)\n",
        "\n",
        "plt.xlabel('Time'); plt.ylabel('Output')\n",
        "plt.legend(labels=('H', 'P', 'PD', 'PI', 'PID'))"
      ],
      "execution_count": 0,
      "outputs": [
        {
          "output_type": "execute_result",
          "data": {
            "text/plain": [
              "<matplotlib.legend.Legend at 0x7f0d9f58bc88>"
            ]
          },
          "metadata": {
            "tags": []
          },
          "execution_count": 3
        },
        {
          "output_type": "display_data",
          "data": {
            "image/png": "[encoded data removed]",
            "text/plain": [
              "<Figure size 432x288 with 1 Axes>"
            ]
          },
          "metadata": {
            "tags": [],
            "needs_background": "light"
          }
        }
      ]
    },
    {
      "cell_type": "code",
      "metadata": {
        "id": "z6AiL_yMO8b2",
        "colab_type": "code",
        "outputId": "1fd15d0a-0c0f-45e0-c22d-0947e4cc0fe3",
        "colab": {
          "base_uri": "https://localhost:8080/",
          "height": 279
        }
      },
      "source": [
        "# C) Using Given Time Specs and Sympy\n",
        "import sympy as sp\n",
        "\n",
        "zeta = 0.5\n",
        "\n",
        "# Derivations available in lecture notes\n",
        "# t_r ~= 1.8/omega_n\n",
        "# t_s = 3/sigma\n",
        "# t_p = pi/omega_d\n",
        "#M_p = e^(-(pi*zeta)/sqrt(1 - zeta^2))\n",
        "\n",
        "omega_n, omega_d, sigma = sp.symbols('omega_n, omega_d, sigma')\n",
        "\n",
        "# Let's say we're given t_r < 3\n",
        "# ** t_r = 1.8/omega_n < 3\n",
        "t_r = 3\n",
        "\n",
        "# Given that t_p < 4\n",
        "# ** t_p = pi/omega_d\n",
        "t_p = 2\n",
        "\n",
        "# Given that t_s < 5\n",
        "# ** t_s = 3/sigma\n",
        "t_s = 5\n",
        "\n",
        "# Use sympy to solve for natural frequency\n",
        "omega_n_solved = sp.solveset(sp.Eq(1.8/omega_n, t_r))\n",
        "# sp.solveset returns as a Finite Value, so need to convert it to a list\n",
        "omega_nlist = list(omega_n_solved)\n",
        "# Once it's in a list we can extract the value\n",
        "v_omega_n = np.asarray(omega_nlist, dtype=float)\n",
        "\n",
        "# Use sympy to solve for damped frequency\n",
        "omega_d_solved = sp.solveset(sp.Eq(np.pi/omega_d, t_p))\n",
        "# Convert Finite Value to a list like before, and extract value\n",
        "omega_dlist = list(omega_d_solved)\n",
        "v_omega_d = np.asarray(omega_dlist, dtype = float)\n",
        "\n",
        "# Use sympy to solve for settling time\n",
        "sigma_solved = sp.solveset(sp.Eq(3/sigma, t_s))\n",
        "# Convert Finite Value to a list like before, and extract value\n",
        "sigma_list = list(sigma_solved)\n",
        "v_sigma = np.asarray(sigma_list, dtype = float)\n",
        "\n",
        "\n",
        "# Can solve for overshoot Mp\n",
        "Mp = np.exp(-1*np.pi*zeta/(np.sqrt(1 - zeta**2)))\n",
        "\n",
        "# Second order System\n",
        "num = [1]\n",
        "den = [1, 2*zeta*v_omega_n[0], v_omega_n[0]**2]\n",
        "\n",
        "tf2 = control.tf(num,den)\n",
        "#print(tf)\n",
        "T, yout = control.step_response(tf2)\n",
        "plt.plot(T,yout,label=\"2nd order\")\n",
        "plt.xlabel('Time'); plt.ylabel('Output')\n",
        "plt.legend(); plt.show()"
      ],
      "execution_count": 0,
      "outputs": [
        {
          "output_type": "display_data",
          "data": {
            "image/png": "[encoded data removed]",
            "text/plain": [
              "<Figure size 432x288 with 1 Axes>"
            ]
          },
          "metadata": {
            "tags": [],
            "needs_background": "light"
          }
        }
      ]
    },
    {
      "cell_type": "code",
      "metadata": {
        "id": "30clKXEZPEqi",
        "colab_type": "code",
        "outputId": "90ff30d0-7282-4891-d62f-fc5486d33261",
        "colab": {
          "base_uri": "https://localhost:8080/",
          "height": 87
        }
      },
      "source": [
        "# D) Solving for K, again utilizing sympy \n",
        "from sympy import *\n",
        "\n",
        "# Define initial transfer function \n",
        "s, Kp, KI, KD = symbols('s, Kp, KI, KD')\n",
        "\n",
        "# Plant transfer function \n",
        "Gp = (4)/(s**2 + 2*s + 4)\n",
        "\n",
        "Gc = Kp #KI/s, sKD, or any combination\n",
        "\n",
        "# Simplify our transfer function\n",
        "H = simplify((Gc*Gp)/(1+Gc*Gp))\n",
        "\n",
        "# Extract just denominator from transfer function\n",
        "den = expand(denom(H))\n",
        "\n",
        "# Extract coefficients from denominator\n",
        "\n",
        "a0 = den.coeff(s, 2)\n",
        "a1 = den.coeff(s, 1)\n",
        "a2 = den.coeff(s, 0)\n",
        "\n",
        "print('Denominator:', den)\n",
        "print('s^2:', a0)\n",
        "print('s^1:', a1)\n",
        "print('s^0:', a2)\n",
        "\n",
        "# Using the standard second order equation, we can compare the coefficients\n",
        "# We can take our time specifications like we did in the previous file, \n",
        "# and then use solveset to find the K values i.e.:\n",
        "Kp_solv = solveset(Eq(a2, 6), Kp)"
      ],
      "execution_count": 0,
      "outputs": [
        {
          "output_type": "stream",
          "text": [
            "Denominator: 4*Kp + s**2 + 2*s + 4\n",
            "s^2: 1\n",
            "s^1: 2\n",
            "s^0: 4*Kp + 4\n"
          ],
          "name": "stdout"
        }
      ]
    }
  ]
}